{
 "cells": [
  {
   "cell_type": "markdown",
   "metadata": {},
   "source": [
    "# Chapter 7: IoT Security"
   ]
  },
  {
   "cell_type": "markdown",
   "metadata": {},
   "source": [
    "# Use Case 2: Network Intrusion Detection"
   ]
  },
  {
   "cell_type": "markdown",
   "metadata": {},
   "source": [
    "# Model: Simple DNN"
   ]
  },
  {
   "cell_type": "markdown",
   "metadata": {},
   "source": [
    "# Step 1: Data Collection (downloading)"
   ]
  },
  {
   "cell_type": "raw",
   "metadata": {},
   "source": [
    "For this use case we are using famous open source KDDCUP99 data. To speed up the pocess, we have added a pre-processed dataset in the use case 2 folder."
   ]
  },
  {
   "cell_type": "markdown",
   "metadata": {},
   "source": [
    "# Step 2: Pre-processing"
   ]
  },
  {
   "cell_type": "raw",
   "metadata": {},
   "source": [
    "Dataset is preprocessed and ready to be train, and test"
   ]
  },
  {
   "cell_type": "markdown",
   "metadata": {},
   "source": [
    "# Step 3: Model Training and Validation"
   ]
  },
  {
   "cell_type": "markdown",
   "metadata": {},
   "source": [
    "# Data loading and preparation for Training"
   ]
  },
  {
   "cell_type": "code",
   "execution_count": 1,
   "metadata": {},
   "outputs": [
    {
     "name": "stderr",
     "output_type": "stream",
     "text": [
      "Using TensorFlow backend.\n"
     ]
    }
   ],
   "source": [
    "from __future__ import print_function\n",
    "import pandas as pd\n",
    "import numpy as np\n",
    "np.random.seed(1337)  # for reproducibility\n",
    "\n",
    "from keras.models import Sequential\n",
    "from keras.layers import Dense, Dropout, Activation\n",
    "from sklearn.metrics import (precision_score, recall_score,f1_score, accuracy_score)\n",
    "from sklearn.preprocessing import Normalizer\n",
    "#import h5py\n",
    "from keras import callbacks\n",
    "from keras.callbacks import CSVLogger\n",
    "from keras.callbacks import TensorBoard\n",
    "from sklearn.metrics import confusion_matrix\n",
    "\n",
    "# Load the pre-processed training and test data\n",
    "traindata = pd.read_csv('dataset-kdd/Training.csv', header=None)\n",
    "testdata = pd.read_csv('dataset-kdd/Testing.csv', header=None)\n",
    "\n",
    "## For OMP error\n",
    "import os\n",
    "os.environ['KMP_DUPLICATE_LIB_OK']='True'\n",
    "\n",
    "X = traindata.iloc[:,1:42]\n",
    "Y = traindata.iloc[:,0]\n",
    "C = testdata.iloc[:,0]\n",
    "T = testdata.iloc[:,1:42]\n",
    "\n",
    "scaler = Normalizer().fit(X)\n",
    "trainX = scaler.transform(X)\n",
    "\n",
    "scaler = Normalizer().fit(T)\n",
    "testT = scaler.transform(T)\n",
    "\n",
    "y_train = np.array(Y)\n",
    "y_test = np.array(C)\n",
    "\n",
    "\n",
    "X_train = np.array(trainX)\n",
    "X_test = np.array(testT)\n",
    "\n",
    "batch_size = 64\n"
   ]
  },
  {
   "cell_type": "markdown",
   "metadata": {},
   "source": [
    "# Model Generation and Training"
   ]
  },
  {
   "cell_type": "code",
   "execution_count": 2,
   "metadata": {},
   "outputs": [
    {
     "name": "stdout",
     "output_type": "stream",
     "text": [
      "WARNING:tensorflow:From /Users/raz/anaconda3/lib/python3.7/site-packages/tensorflow/python/framework/op_def_library.py:263: colocate_with (from tensorflow.python.framework.ops) is deprecated and will be removed in a future version.\n",
      "Instructions for updating:\n",
      "Colocations handled automatically by placer.\n",
      "WARNING:tensorflow:From /Users/raz/anaconda3/lib/python3.7/site-packages/keras/backend/tensorflow_backend.py:3445: calling dropout (from tensorflow.python.ops.nn_ops) with keep_prob is deprecated and will be removed in a future version.\n",
      "Instructions for updating:\n",
      "Please use `rate` instead of `keep_prob`. Rate should be set to `rate = 1 - keep_prob`.\n",
      "WARNING:tensorflow:From /Users/raz/anaconda3/lib/python3.7/site-packages/tensorflow/python/ops/math_ops.py:3066: to_int32 (from tensorflow.python.ops.math_ops) is deprecated and will be removed in a future version.\n",
      "Instructions for updating:\n",
      "Use tf.cast instead.\n"
     ]
    },
    {
     "name": "stderr",
     "output_type": "stream",
     "text": [
      "/Users/raz/anaconda3/lib/python3.7/site-packages/ipykernel_launcher.py:24: UserWarning: The `nb_epoch` argument in `fit` has been renamed `epochs`.\n"
     ]
    },
    {
     "name": "stdout",
     "output_type": "stream",
     "text": [
      "Epoch 1/1\n",
      "494021/494021 [==============================] - 719s 1ms/step - loss: 0.0137 - acc: 0.9957\n",
      "\n",
      "Epoch 00001: loss improved from inf to 0.01371, saving model to dnn-kdd-results/checkpoint-01.hdf5\n"
     ]
    }
   ],
   "source": [
    "# Generate or define the netwrok\n",
    "model = Sequential()\n",
    "model.add(Dense(1024,input_dim=41,activation='relu'))  \n",
    "model.add(Dropout(0.01))\n",
    "model.add(Dense(768,activation='relu'))  \n",
    "model.add(Dropout(0.01))\n",
    "model.add(Dense(512,activation='relu'))  \n",
    "model.add(Dropout(0.01))\n",
    "model.add(Dense(256,activation='relu'))  \n",
    "model.add(Dropout(0.01))\n",
    "model.add(Dense(1))\n",
    "model.add(Activation('sigmoid'))\n",
    "\n",
    "# Use tensorboad to log files\n",
    "tensorboard = TensorBoard(log_dir='./logs',\n",
    "                          histogram_freq=0,\n",
    "                          write_graph=True,\n",
    "                          write_images=True)\n",
    "model.compile(loss='binary_crossentropy',optimizer='adam',metrics=['accuracy'])\n",
    "\n",
    "checkpointer = callbacks.ModelCheckpoint(filepath=\"dnn-kdd-results/checkpoint-{epoch:02d}.hdf5\", \n",
    "                                         verbose=1, save_best_only=True, monitor='loss')\n",
    "csv_logger = CSVLogger('dnn-kdd-results/training_set_dnnanalysis.csv',separator=',', append=False)\n",
    "model.fit(X_train, y_train, batch_size=batch_size, nb_epoch=1, callbacks=[checkpointer,csv_logger, tensorboard])\n",
    "model.save(\"dnn-kdd-results/dnn_model.hdf5\")\n"
   ]
  },
  {
   "cell_type": "markdown",
   "metadata": {},
   "source": [
    "# Performance Evaluation/Validation"
   ]
  },
  {
   "cell_type": "code",
   "execution_count": 3,
   "metadata": {},
   "outputs": [
    {
     "name": "stdout",
     "output_type": "stream",
     "text": [
      "----------------------------------------------\n",
      "accuracy\n",
      "0.925\n",
      "----------------------------------------------\n",
      "accuracy\n",
      "0.925\n",
      "----------------------------------------------\n",
      "accuracy\n",
      "0.925\n",
      "----------------------------------------------\n",
      "accuracy\n",
      "0.925\n",
      "----------------------------------------------\n",
      "accuracy\n",
      "0.925\n",
      "----------------------------------------------\n",
      "accuracy\n",
      "0.925\n",
      "----------------------------------------------\n",
      "accuracy\n",
      "0.925\n",
      "[[ 60207    386]\n",
      " [ 22920 227516]]\n"
     ]
    },
    {
     "data": {
      "image/png": "[encoded data removed]",
      "text/plain": [
       "<Figure size 432x288 with 2 Axes>"
      ]
     },
     "metadata": {
      "needs_background": "light"
     },
     "output_type": "display_data"
    }
   ],
   "source": [
    "# Validation & Confusion Matrix\n",
    "score = []\n",
    "name = []\n",
    "\n",
    "for file in os.listdir(\"dnn-kdd-results\"):\n",
    "  model.load_weights(\"dnn-kdd-results/checkpoint-02.hdf5\")\n",
    "  y_train1 = y_test\n",
    "  y_pred = model.predict_classes(X_test)\n",
    "  accuracy = accuracy_score(y_train1, y_pred)\n",
    "  recall = recall_score(y_train1, y_pred , average=\"binary\")\n",
    "  precision = precision_score(y_train1, y_pred , average=\"binary\")\n",
    "  f1 = f1_score(y_train1, y_pred, average=\"binary\")\n",
    "  print(\"----------------------------------------------\")\n",
    "  print(\"accuracy\")\n",
    "  print(\"%.3f\" %accuracy)\n",
    "  score.append(accuracy)\n",
    "  name.append(file)\n",
    "\n",
    "\n",
    "model.load_weights(\"dnn-kdd-results/\"+name[score.index(max(score))])\n",
    "pred = model.predict_classes(X_test)\n",
    "proba = model.predict_proba(X_test)\n",
    "np.savetxt(\"dnn-kdd-results/dnn4predicted.txt\", pred)\n",
    "np.savetxt(\"dnn-kdd-results/dnn4probability.txt\", proba)\n",
    "\n",
    "accuracy = accuracy_score(y_test, pred)\n",
    "recall = recall_score(y_test, pred , average=\"binary\")\n",
    "precision = precision_score(y_test, pred , average=\"binary\")\n",
    "f1 = f1_score(y_test, pred, average=\"binary\")\n",
    "\n",
    "\n",
    "print(\"----------------------------------------------\")\n",
    "print(\"accuracy\")\n",
    "print(\"%.3f\" %accuracy)\n",
    "\n",
    "### Confusion Matrix \n",
    "import matplotlib.pylab as plt\n",
    "# This is to show plot \n",
    "%matplotlib inline\n",
    "matrix = confusion_matrix(y_test, y_pred)\n",
    "print (matrix)\n",
    "\n",
    "#Plotting the Confusion Matrix\n",
    "labels = ['Normal', 'Intruder']\n",
    "fig = plt.figure()\n",
    "ax = fig.add_subplot(111)\n",
    "cax = ax.matshow(matrix)\n",
    "#plt.title('Confusion matrix of the classifier')\n",
    "fig.colorbar(cax)\n",
    "ax.set_xticklabels([''] + labels)\n",
    "ax.set_yticklabels([''] + labels)\n",
    "plt.xlabel('Predicted')\n",
    "plt.ylabel('True')\n",
    "plt.show()\n"
   ]
  },
  {
   "cell_type": "code",
   "execution_count": null,
   "metadata": {},
   "outputs": [],
   "source": []
  }
 ],
 "metadata": {
  "kernelspec": {
   "display_name": "Python 3",
   "language": "python",
   "name": "python3"
  },
  "language_info": {
   "codemirror_mode": {
    "name": "ipython",
    "version": 3
   },
   "file_extension": ".py",
   "mimetype": "text/x-python",
   "name": "python",
   "nbconvert_exporter": "python",
   "pygments_lexer": "ipython3",
   "version": "3.7.3"
  }
 },
 "nbformat": 4,
 "nbformat_minor": 2
}
