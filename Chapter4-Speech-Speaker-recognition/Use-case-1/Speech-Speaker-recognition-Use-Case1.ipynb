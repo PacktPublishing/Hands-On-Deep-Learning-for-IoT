{
 "cells": [
  {
   "cell_type": "markdown",
   "metadata": {},
   "source": [
    "# Chapter 4:  Speech/voice Recognition "
   ]
  },
  {
   "cell_type": "markdown",
   "metadata": {},
   "source": [
    "# Use Case 1:  Voice Controlled Smart Light "
   ]
  },
  {
   "cell_type": "markdown",
   "metadata": {},
   "source": [
    "# Model: MobileNet V1 (CNN)"
   ]
  },
  {
   "cell_type": "markdown",
   "metadata": {},
   "source": [
    "# Step 1: Data Collection (downloading)"
   ]
  },
  {
   "cell_type": "raw",
   "metadata": {},
   "source": [
    "Download the Google's speech_command dataset from http://download.tensorflow.org/data/speech_commands_v0.01.tar.gz, and unzip into your preferred folder, in our case it is dataset-wav. The dataset includes 65,000 one-second long utterances of 30 short words, by thousands of different people. The size is too big (>2Gb) for handling, so we make a reduced dataset by selecting five commands, namele 'no', 'on,, 'off', 'stop', and 'yes'. The data are in wav files, and we will be using CNN, so better to convert them to immages. Please use the provided shell script convert_wav2spect.sh to convert the wav files to image files (.png) or use any other tool or code to conver them to image files. "
   ]
  },
  {
   "cell_type": "markdown",
   "metadata": {},
   "source": [
    "# Step 2: Data/Image Exploration "
   ]
  },
  {
   "cell_type": "code",
   "execution_count": 2,
   "metadata": {},
   "outputs": [
    {
     "data": {
      "image/png": "[encoded data removed]",
      "text/plain": [
       "<Figure size 432x288 with 4 Axes>"
      ]
     },
     "metadata": {
      "needs_background": "light"
     },
     "output_type": "display_data"
    }
   ],
   "source": [
    "# Five classes (manhole, pavement, pothole, roadmarkings, shadow)\n",
    "# Import the necessary modules\n",
    "\n",
    "import cv2\n",
    "import glob\n",
    "import numpy as np\n",
    "import os\n",
    "import random\n",
    "import matplotlib.pyplot as plt\n",
    "\n",
    "# List to store the images of each class\n",
    "\n",
    "images =[]\n",
    "\n",
    "\n",
    "# This is to show plot \n",
    "%matplotlib inline\n",
    "\n",
    "# Function to read image file one by one and append to the images list\n",
    "\n",
    "def data_explorer(image_dir, images_to_explore):  \n",
    "        \n",
    "    image_files =os.path.join(image_dir, \"*.jpg\") \n",
    "    files = glob.glob (image_files) \n",
    "        \n",
    "    for myFile in files:\n",
    "        image = cv2.imread (myFile)\n",
    "        images.append (image)\n",
    "\n",
    "    data = np.array(images) \n",
    "    \n",
    " \n",
    " # random indexes for the images to be explored\n",
    " \n",
    "    r =len(data)\n",
    "    #print (r)\n",
    "    my_randoms = random.sample(range(r), images_to_explore)\n",
    "    # list of random indexes \n",
    "    data_toexplore = my_randoms\n",
    "\n",
    "    # Plot the images to explore \n",
    "\n",
    "    for i in range(len(data_toexplore)):\n",
    "        plt.subplot(1, 4, i+1)\n",
    "        plt.axis('off')\n",
    "        #print(i)\n",
    "        plt.imshow(data[data_toexplore[i]])\n",
    "        plt.subplots_adjust(wspace=0.5)\n",
    "\n",
    "    plt.show()\n",
    "    \n",
    "DATASET_PATH = \"dataset/on\"  \n",
    "\n",
    "#Call the function with 4 random images to be explored\n",
    "\n",
    "data_explorer(DATASET_PATH, 4)\n",
    "   "
   ]
  },
  {
   "cell_type": "markdown",
   "metadata": {},
   "source": [
    "# Step 3: Pre-processing"
   ]
  },
  {
   "cell_type": "raw",
   "metadata": {},
   "source": [
    "The dataset we got are pre-processed as we can see from the data exploration above. Lets move to next step."
   ]
  },
  {
   "cell_type": "markdown",
   "metadata": {},
   "source": [
    "# Step 4: Model Training and Validation"
   ]
  },
  {
   "cell_type": "code",
   "execution_count": null,
   "metadata": {},
   "outputs": [],
   "source": [
    "Download the mobilenet_1.0_224 model from https://github.com/tensorflow/models/blob/master/research/slim/nets/mobilenet_v1.\n",
    "md, and save it into a dirctory that will be your model directory in the following code (we used Mobilenet)"
   ]
  },
  {
   "cell_type": "code",
   "execution_count": 7,
   "metadata": {},
   "outputs": [],
   "source": [
    "\n",
    "\n",
    "import os\n",
    "import argparse\n",
    "import tensorflow as tf\n",
    "from IPython.display import Image\n",
    "\n",
    "import retrain  # Available in the usecase 2 folder"
   ]
  },
  {
   "cell_type": "code",
   "execution_count": 8,
   "metadata": {},
   "outputs": [],
   "source": [
    "# Have a look at the default values\n",
    "# For the meaning of these values look at retrain_CNN.py:\n",
    "\n",
    "FLAGS = argparse.Namespace()\n",
    "FLAGS.image_dir = \"\"\n",
    "FLAGS.output_graph = '.\\\\retrained_graph.pb'\n",
    "FLAGS.output_labels = '.\\\\output_labels.txt'\n",
    "FLAGS.summaries_dir = '.\\\\summaries'\n",
    "FLAGS.how_many_training_steps = 4000\n",
    "FLAGS.learning_rate = 0.01\n",
    "FLAGS.testing_percentage = 10\n",
    "FLAGS.validation_percentage = 10\n",
    "FLAGS.eval_step_interval = 10\n",
    "FLAGS.train_batch_size = 100\n",
    "FLAGS.test_batch_size = -1\n",
    "FLAGS.validation_batch_size = 100\n",
    "FLAGS.intermediate_store_frequency =10\n",
    "FLAGS.print_misclassified_test_images = False\n",
    "FLAGS.model_dir = \".\"\n",
    "FLAGS.bottleneck_dir = \"bottlenecks\"\n",
    "FLAGS.final_tensor_name = \"final_result\"\n",
    "FLAGS.flip_left_right = False\n",
    "FLAGS.random_crop = 0\n",
    "FLAGS.random_scale = 0\n",
    "FLAGS.random_brightness = 0\n",
    "FLAGS.intermediate_output_graphs_dir =\".\"\n",
    "FLAGS.architecture = \"mobilenet_1.0_224\" # for Incentive- inception_v3"
   ]
  },
  {
   "cell_type": "code",
   "execution_count": 11,
   "metadata": {},
   "outputs": [],
   "source": [
    "# change default: \n",
    "FLAGS.how_many_training_steps = 1000\n",
    "FLAGS.model_dir = \"Mobilenet\" # for Incentive make it inactive or show the path for the downloaded model\n",
    "FLAGS.output_graph = \"retrained_mobilenet_graph.pb\"  \n",
    "FLAGS.output_labels = \"retrained_labels.txt\"\n",
    "FLAGS.image_dir = \"dataset-original\" # For the modified dataset use the modified dataset directory \n"
   ]
  },
  {
   "cell_type": "code",
   "execution_count": null,
   "metadata": {
    "scrolled": true
   },
   "outputs": [],
   "source": [
    "retrain.FLAGS = FLAGS\n",
    "tf.app.run(main=retrain.main)"
   ]
  },
  {
   "cell_type": "markdown",
   "metadata": {},
   "source": [
    "# Step 5: Test model on new picture individual Acne Images in Raspberry Pi or Other Devices."
   ]
  },
  {
   "cell_type": "raw",
   "metadata": {},
   "source": [
    "Note: The incentive model generate different network structure, use the labelling_image.py code here for the Incentive's testing."
   ]
  },
  {
   "cell_type": "code",
   "execution_count": 1,
   "metadata": {},
   "outputs": [],
   "source": [
    "from __future__ import absolute_import\n",
    "from __future__ import division\n",
    "from __future__ import print_function\n",
    "\n",
    "\n",
    "import numpy as np\n",
    "import tensorflow as tf\n",
    "# Function to load a pretrained model (transfer learning)\n",
    "\n",
    "def load_graph(model_file):\n",
    "  graph = tf.Graph()\n",
    "  graph_def = tf.GraphDef()\n",
    "\n",
    "  with open(model_file, \"rb\") as f:\n",
    "    graph_def.ParseFromString(f.read())\n",
    "  with graph.as_default():\n",
    "    tf.import_graph_def(graph_def)\n",
    "\n",
    "  return graph\n",
    "\n",
    "# Function for image to tensor conversion\n",
    "\n",
    "def read_tensor_from_image_file(file_name,\n",
    "                                input_height=299,\n",
    "                                input_width=299,\n",
    "                                input_mean=0,\n",
    "                                input_std=255):\n",
    "  input_name = \"file_reader\"\n",
    "  #output_name = \"normalized\"\n",
    "  file_reader = tf.read_file(file_name, input_name)\n",
    "  if file_name.endswith(\".png\"):\n",
    "    image_reader = tf.image.decode_png(\n",
    "        file_reader, channels=3, name=\"png_reader\")\n",
    "  elif file_name.endswith(\".gif\"):\n",
    "    image_reader = tf.squeeze(\n",
    "        tf.image.decode_gif(file_reader, name=\"gif_reader\"))\n",
    "  elif file_name.endswith(\".bmp\"):\n",
    "    image_reader = tf.image.decode_bmp(file_reader, name=\"bmp_reader\")\n",
    "  else:\n",
    "    image_reader = tf.image.decode_jpeg(\n",
    "        file_reader, channels=3, name=\"jpeg_reader\")\n",
    "  float_caster = tf.cast(image_reader, tf.float32)\n",
    "  dims_expander = tf.expand_dims(float_caster, 0)\n",
    "  resized = tf.image.resize_bilinear(dims_expander, [input_height, input_width])\n",
    "  normalized = tf.divide(tf.subtract(resized, [input_mean]), [input_std])\n",
    "  sess = tf.Session()\n",
    "  result = sess.run(normalized)\n",
    "\n",
    "  return result\n",
    "\n",
    "# Function for loading label files\n",
    "\n",
    "def load_labels(label_file):\n",
    "  label = []\n",
    "  proto_as_ascii_lines = tf.gfile.GFile(label_file).readlines()\n",
    "  for l in proto_as_ascii_lines:\n",
    "    label.append(l.rstrip())\n",
    "  return label\n"
   ]
  },
  {
   "cell_type": "code",
   "execution_count": 2,
   "metadata": {},
   "outputs": [
    {
     "name": "stdout",
     "output_type": "stream",
     "text": [
      "Pontenially on with confidence level 0.5684126\n",
      "Pontenially off with confidence level 0.17668194\n",
      "Pontenially no with confidence level 0.1430924\n",
      "Pontenially yes with confidence level 0.09432695\n",
      "Pontenially stop with confidence level 0.017486034\n"
     ]
    }
   ],
   "source": [
    "# Provide input to be predicted with model file and label or class file \n",
    "file_name = \"test_images/on2.jpg\"\n",
    "model_file = \"retrained_mobilenet_graph.pb\"\n",
    "label_file = \"retrained_labels.txt\"\n",
    "\n",
    "# Fixed input for Mobilenet V1\n",
    "input_height = 224\n",
    "input_width = 224\n",
    "input_mean = 0\n",
    "input_std = 255\n",
    "input_layer = \"input\"\n",
    "output_layer = \"final_result\"\n",
    "\n",
    "# Load the model\n",
    "graph = load_graph(model_file)\n",
    "t = read_tensor_from_image_file(\n",
    "      file_name,\n",
    "      input_height=input_height,\n",
    "      input_width=input_width,\n",
    "      input_mean=input_mean,\n",
    "      input_std=input_std)\n",
    "\n",
    "input_name = \"import/\" + input_layer\n",
    "output_name = \"import/\" + output_layer\n",
    "input_operation = graph.get_operation_by_name(input_name)\n",
    "output_operation = graph.get_operation_by_name(output_name)\n",
    "\n",
    "with tf.Session(graph=graph) as sess:\n",
    "    results = sess.run(output_operation.outputs[0], {\n",
    "        input_operation.outputs[0]: t\n",
    "    })\n",
    "\n",
    "results = np.squeeze(results)\n",
    "\n",
    "top_k = results.argsort()[-5:][::-1]\n",
    "labels = load_labels(label_file)\n",
    "for i in top_k:\n",
    "    print(\"Pontenially\", labels[i], \"with confidence level\",results[i])"
   ]
  }
 ],
 "metadata": {
  "kernelspec": {
   "display_name": "Python 3",
   "language": "python",
   "name": "python3"
  },
  "language_info": {
   "codemirror_mode": {
    "name": "ipython",
    "version": 3
   },
   "file_extension": ".py",
   "mimetype": "text/x-python",
   "name": "python",
   "nbconvert_exporter": "python",
   "pygments_lexer": "ipython3",
   "version": "3.7.3"
  }
 },
 "nbformat": 4,
 "nbformat_minor": 2
}
